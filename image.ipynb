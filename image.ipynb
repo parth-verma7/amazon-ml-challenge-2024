{
 "cells": [
  {
   "cell_type": "code",
   "execution_count": 1,
   "metadata": {},
   "outputs": [],
   "source": [
    "import os\n",
    "import time\n",
    "import urllib\n",
    "import pandas as pd\n",
    "from PIL import Image\n",
    "from pathlib import Path"
   ]
  },
  {
   "cell_type": "code",
   "execution_count": 2,
   "metadata": {},
   "outputs": [],
   "source": [
    "new_df=pd.DataFrame(columns=[\"image_path\", \"group_id\", \"entity_name\", \"entity_value\"])"
   ]
  },
  {
   "cell_type": "code",
   "execution_count": 3,
   "metadata": {},
   "outputs": [],
   "source": [
    "def create_placeholder_image(image_save_path, group_id, entity_name, entity_value):\n",
    "\n",
    "    try:\n",
    "        placeholder_image = Image.new('RGB', (100, 100), color='black')\n",
    "        placeholder_image.save(image_save_path)\n",
    "        \n",
    "        new_row={\n",
    "            \"image_path\":image_save_path,\n",
    "            \"group_id\":group_id,\n",
    "            \"entity_name\":entity_name,\n",
    "            \"entity_value\":entity_value\n",
    "        }\n",
    "\n",
    "        new_df.loc[len(new_df)] = new_row\n",
    "        return\n",
    "        \n",
    "    except Exception as e:\n",
    "        print(\"Exception is:\", e)\n",
    "        return"
   ]
  },
  {
   "cell_type": "code",
   "execution_count": 4,
   "metadata": {},
   "outputs": [],
   "source": [
    "def download_image(row, save_folder, retries=3, delay=3):\n",
    "    \n",
    "    image_link=row['image_link']\n",
    "    group_id=row['group_id']\n",
    "    entity_name=row['entity_name']\n",
    "    entity_value=row['entity_value']\n",
    "\n",
    "    filename = Path(image_link).name\n",
    "    image_save_path = os.path.join(save_folder, filename)\n",
    "\n",
    "    for _ in range(retries):\n",
    "        try:\n",
    "            urllib.request.urlretrieve(image_link, image_save_path)\n",
    "            new_row={\n",
    "                \"image_path\":image_save_path,\n",
    "                \"group_id\":group_id,\n",
    "                \"entity_name\":entity_name,\n",
    "                \"entity_value\":entity_value\n",
    "            }\n",
    "            new_df.loc[len(new_df)] = new_row\n",
    "            return\n",
    "        \n",
    "        except:\n",
    "            time.sleep(delay)\n",
    "\n",
    "    create_placeholder_image(image_save_path, group_id, entity_name, entity_value)"
   ]
  },
  {
   "cell_type": "code",
   "execution_count": 5,
   "metadata": {},
   "outputs": [],
   "source": [
    "df=pd.read_csv('./dataset/train.csv').head(1000)\n",
    "for index, row in df.iterrows():\n",
    "    download_image(row, \"./images/\")"
   ]
  },
  {
   "cell_type": "code",
   "execution_count": 6,
   "metadata": {},
   "outputs": [],
   "source": [
    "new_df.to_csv(\"img_path_dataset.csv\", index=False)"
   ]
  },
  {
   "cell_type": "code",
   "execution_count": null,
   "metadata": {},
   "outputs": [],
   "source": []
  }
 ],
 "metadata": {
  "kernelspec": {
   "display_name": "Python 3",
   "language": "python",
   "name": "python3"
  },
  "language_info": {
   "codemirror_mode": {
    "name": "ipython",
    "version": 3
   },
   "file_extension": ".py",
   "mimetype": "text/x-python",
   "name": "python",
   "nbconvert_exporter": "python",
   "pygments_lexer": "ipython3",
   "version": "3.10.5"
  }
 },
 "nbformat": 4,
 "nbformat_minor": 2
}
