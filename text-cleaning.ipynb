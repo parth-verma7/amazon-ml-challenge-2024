{
 "cells": [
  {
   "cell_type": "code",
   "execution_count": 14,
   "metadata": {},
   "outputs": [],
   "source": [
    "import pandas as pd\n",
    "import joblib"
   ]
  },
  {
   "cell_type": "code",
   "execution_count": 30,
   "metadata": {},
   "outputs": [],
   "source": [
    "df=pd.read_csv('40k_85k_predictions.csv')\n",
    "t17=list(df['predicted_entity'].values)[15000:25000]"
   ]
  },
  {
   "cell_type": "code",
   "execution_count": 64,
   "metadata": {},
   "outputs": [
    {
     "data": {
      "text/plain": [
       "['predictions_45000_to_50000.pkl']"
      ]
     },
     "execution_count": 64,
     "metadata": {},
     "output_type": "execute_result"
    }
   ],
   "source": [
    "df=pd.read_csv('40k_85k_predictions.csv')\n",
    "t10=list(df['predicted_entity'].values)[5000:10000]\n",
    "joblib.dump(t10, 'predictions_45000_to_50000.pkl')"
   ]
  },
  {
   "cell_type": "code",
   "execution_count": 66,
   "metadata": {},
   "outputs": [
    {
     "data": {
      "text/plain": [
       "['predictions_60000_to_70000.pkl']"
      ]
     },
     "execution_count": 66,
     "metadata": {},
     "output_type": "execute_result"
    }
   ],
   "source": [
    "df=pd.read_csv('40k_85k_predictions.csv')\n",
    "t12=list(df['predicted_entity'].values)[20000:30000]\n",
    "joblib.dump(t12, 'predictions_60000_to_70000.pkl')"
   ]
  },
  {
   "cell_type": "code",
   "execution_count": 90,
   "metadata": {},
   "outputs": [],
   "source": [
    "t1=joblib.load('predictions_0_to_5000.pkl')\n",
    "t2=joblib.load('predictions_5000_to_10000.pkl')\n",
    "t3=joblib.load('predictions_10000_to_15000.pkl')\n",
    "t4=joblib.load('predictions_15000_to_20000.pkl')\n",
    "t5=joblib.load('predictions_20000_to_25000.pkl')\n",
    "t6=joblib.load('predictions_25000_to_30000.pkl')\n",
    "t7=joblib.load('predictions_30000_to_35000.pkl')\n",
    "t8=joblib.load('predictions_35000_to_40000.pkl')\n",
    "t9=joblib.load('predictions_40000_to_45000.pkl')\n",
    "t10=joblib.load('predictions_45000_to_50000.pkl')\n",
    "t11=joblib.load('predictions_50000_to_60000.pkl')\n",
    "t12=joblib.load('predictions_60000_to_70000.pkl')\n",
    "t13=joblib.load('predictions_70000_to_75000.pkl')\n",
    "t14=joblib.load('predictions_75000_to_80000.pkl')[5000:]\n",
    "t15=joblib.load('predictions_80000_to_85000.pkl')[10000:]\n",
    "t16=joblib.load('predictions_85000_to_90000.pkl')\n",
    "t17=joblib.load('predictions_90000_to_100000.pkl')\n",
    "t18=joblib.load('predictions_100000_to_110000.pkl')[10000:]\n",
    "t19=joblib.load('predictions_110000_to_120000.pkl')\n",
    "t20=joblib.load('predictions_120000_to_end.pkl')\n"
   ]
  },
  {
   "cell_type": "code",
   "execution_count": 91,
   "metadata": {},
   "outputs": [
    {
     "name": "stdout",
     "output_type": "stream",
     "text": [
      "Length of t1: 5000\n",
      "Length of t2: 5000\n",
      "Length of t3: 5000\n",
      "Length of t4: 5000\n",
      "Length of t5: 5000\n",
      "Length of t6: 5000\n",
      "Length of t7: 5000\n",
      "Length of t8: 5000\n",
      "Length of t9: 5000\n",
      "Length of t10: 5000\n",
      "Length of t11: 10000\n",
      "Length of t12: 10000\n",
      "Length of t13: 5000\n",
      "Length of t14: 5000\n",
      "Length of t15: 5000\n",
      "Length of t16: 5000\n",
      "Length of t17: 10000\n",
      "Length of t18: 10000\n",
      "Length of t19: 10000\n",
      "Length of t20: 11187\n"
     ]
    }
   ],
   "source": [
    "\n",
    "predictions_list = [t1, t2, t3, t4, t5, t6, t7, t8, t9, t10, t11, t12, t13, t14, t15, t16, t17, t18, t19, t20]\n",
    "\n",
    "# Iterate over each list and print its length\n",
    "for i, pred in enumerate(predictions_list, start=1):\n",
    "    print(f\"Length of t{i}: {len(pred)}\")"
   ]
  },
  {
   "cell_type": "code",
   "execution_count": 130,
   "metadata": {},
   "outputs": [],
   "source": [
    "predictions_list= t1 + t2 + t3 + t4 + t5 + t6 + t7 + t8 + t9 + t10"
   ]
  },
  {
   "cell_type": "code",
   "execution_count": 132,
   "metadata": {},
   "outputs": [
    {
     "data": {
      "text/plain": [
       "50000"
      ]
     },
     "execution_count": 132,
     "metadata": {},
     "output_type": "execute_result"
    }
   ],
   "source": [
    "len(predictions_list)"
   ]
  },
  {
   "cell_type": "code",
   "execution_count": 133,
   "metadata": {},
   "outputs": [
    {
     "data": {
      "text/plain": [
       "['0_to_50k.pkl']"
      ]
     },
     "execution_count": 133,
     "metadata": {},
     "output_type": "execute_result"
    }
   ],
   "source": [
    "joblib.dump(predictions_list, '0_to_50k.pkl')"
   ]
  },
  {
   "cell_type": "code",
   "execution_count": 92,
   "metadata": {},
   "outputs": [],
   "source": [
    "\n",
    "all_predictions = t1 + t2 + t3 + t4 + t5 + t6 + t7 + t8 + t9 + t10 + t11 + t12 + t13 + t14 + t15 + t16 + t17 + t18 + t19 +t20"
   ]
  },
  {
   "cell_type": "code",
   "execution_count": 93,
   "metadata": {},
   "outputs": [
    {
     "data": {
      "text/plain": [
       "131187"
      ]
     },
     "execution_count": 93,
     "metadata": {},
     "output_type": "execute_result"
    }
   ],
   "source": [
    "len(all_predictions)"
   ]
  },
  {
   "cell_type": "code",
   "execution_count": 136,
   "metadata": {},
   "outputs": [
    {
     "data": {
      "text/plain": [
       "['end.pkl']"
      ]
     },
     "execution_count": 136,
     "metadata": {},
     "output_type": "execute_result"
    }
   ],
   "source": [
    "joblib.dump(t20, 'end.pkl')"
   ]
  },
  {
   "cell_type": "code",
   "execution_count": 135,
   "metadata": {},
   "outputs": [
    {
     "data": {
      "text/plain": [
       "10000"
      ]
     },
     "execution_count": 135,
     "metadata": {},
     "output_type": "execute_result"
    }
   ],
   "source": [
    "len(t12)"
   ]
  },
  {
   "cell_type": "code",
   "execution_count": 35,
   "metadata": {},
   "outputs": [],
   "source": [
    "df.to_csv('xyz.csv', index=False)"
   ]
  },
  {
   "cell_type": "code",
   "execution_count": 36,
   "metadata": {},
   "outputs": [],
   "source": [
    "df=pd.read_csv('xyz.csv')"
   ]
  },
  {
   "cell_type": "code",
   "execution_count": 160,
   "metadata": {},
   "outputs": [
    {
     "data": {
      "text/plain": [
       "5000"
      ]
     },
     "execution_count": 160,
     "metadata": {},
     "output_type": "execute_result"
    }
   ],
   "source": [
    "t2=joblib.load('./predictions_2000_to_5000.pkl')\n",
    "len(t2)"
   ]
  },
  {
   "cell_type": "code",
   "execution_count": 161,
   "metadata": {},
   "outputs": [
    {
     "ename": "SyntaxError",
     "evalue": "invalid syntax (2373416399.py, line 3)",
     "output_type": "error",
     "traceback": [
      "\u001b[1;36m  Cell \u001b[1;32mIn[161], line 3\u001b[1;36m\u001b[0m\n\u001b[1;33m    t3=t3[]\u001b[0m\n\u001b[1;37m          ^\u001b[0m\n\u001b[1;31mSyntaxError\u001b[0m\u001b[1;31m:\u001b[0m invalid syntax\n"
     ]
    }
   ],
   "source": [
    "t3=joblib.load('./predictions_5000_to_7500.pkl')\n",
    "print(len(t3))"
   ]
  },
  {
   "cell_type": "code",
   "execution_count": 8,
   "metadata": {},
   "outputs": [
    {
     "data": {
      "text/plain": [
       "10000"
      ]
     },
     "execution_count": 8,
     "metadata": {},
     "output_type": "execute_result"
    }
   ],
   "source": [
    "t4=joblib.load('./predictions_7500_to_10000.pkl')\n",
    "len(t4)"
   ]
  },
  {
   "cell_type": "code",
   "execution_count": 9,
   "metadata": {},
   "outputs": [],
   "source": [
    "t1=t1[:2000]\n",
    "t2=t2[2000:5000]\n",
    "t3=t4[5000:7500]\n",
    "t4=t4[7500:10000]"
   ]
  },
  {
   "cell_type": "code",
   "execution_count": 10,
   "metadata": {},
   "outputs": [
    {
     "data": {
      "text/plain": [
       "2500"
      ]
     },
     "execution_count": 10,
     "metadata": {},
     "output_type": "execute_result"
    }
   ],
   "source": [
    "t5=joblib.load('./predictions_10000_to_12500.pkl')\n",
    "len(t5)"
   ]
  },
  {
   "cell_type": "code",
   "execution_count": 11,
   "metadata": {},
   "outputs": [
    {
     "data": {
      "text/plain": [
       "2500"
      ]
     },
     "execution_count": 11,
     "metadata": {},
     "output_type": "execute_result"
    }
   ],
   "source": [
    "t6=joblib.load('./predictions_12500_to_15000.pkl')\n",
    "len(t6)"
   ]
  },
  {
   "cell_type": "code",
   "execution_count": 12,
   "metadata": {},
   "outputs": [],
   "source": [
    "t7=joblib.load('./predictions_15000_to_20000.pkl')\n",
    "t8=joblib.load('./predictions_20000_to_25000.pkl')\n",
    "t9=joblib.load('./predictions_25000_to_30000.pkl')\n",
    "t10=joblib.load('./predictions_30000_to_35000.pkl')\n",
    "t11=joblib.load('./predictions_35000_to_40000.pkl')"
   ]
  },
  {
   "cell_type": "code",
   "execution_count": 15,
   "metadata": {},
   "outputs": [
    {
     "name": "stdout",
     "output_type": "stream",
     "text": [
      "40000\n"
     ]
    }
   ],
   "source": [
    "combined_list = t1 + t2 + t3 + t4 + t5 + t6 + t7 + t8 + t9 + t10 + t11\n",
    "\n",
    "print(len(combined_list))"
   ]
  },
  {
   "cell_type": "code",
   "execution_count": 214,
   "metadata": {},
   "outputs": [
    {
     "data": {
      "text/plain": [
       "['empty', '200centimeter', '200centimeter', '200centimeter']"
      ]
     },
     "execution_count": 214,
     "metadata": {},
     "output_type": "execute_result"
    }
   ],
   "source": [
    "t1[:4]"
   ]
  },
  {
   "cell_type": "code",
   "execution_count": 137,
   "metadata": {},
   "outputs": [
    {
     "data": {
      "text/html": [
       "<div>\n",
       "<style scoped>\n",
       "    .dataframe tbody tr th:only-of-type {\n",
       "        vertical-align: middle;\n",
       "    }\n",
       "\n",
       "    .dataframe tbody tr th {\n",
       "        vertical-align: top;\n",
       "    }\n",
       "\n",
       "    .dataframe thead th {\n",
       "        text-align: right;\n",
       "    }\n",
       "</style>\n",
       "<table border=\"1\" class=\"dataframe\">\n",
       "  <thead>\n",
       "    <tr style=\"text-align: right;\">\n",
       "      <th></th>\n",
       "      <th>index</th>\n",
       "      <th>image_link</th>\n",
       "      <th>group_id</th>\n",
       "      <th>entity_name</th>\n",
       "    </tr>\n",
       "  </thead>\n",
       "  <tbody>\n",
       "    <tr>\n",
       "      <th>0</th>\n",
       "      <td>0</td>\n",
       "      <td>https://m.media-amazon.com/images/I/110EibNycl...</td>\n",
       "      <td>156839</td>\n",
       "      <td>height</td>\n",
       "    </tr>\n",
       "    <tr>\n",
       "      <th>1</th>\n",
       "      <td>1</td>\n",
       "      <td>https://m.media-amazon.com/images/I/11TU2clswz...</td>\n",
       "      <td>792578</td>\n",
       "      <td>width</td>\n",
       "    </tr>\n",
       "    <tr>\n",
       "      <th>2</th>\n",
       "      <td>2</td>\n",
       "      <td>https://m.media-amazon.com/images/I/11TU2clswz...</td>\n",
       "      <td>792578</td>\n",
       "      <td>height</td>\n",
       "    </tr>\n",
       "    <tr>\n",
       "      <th>3</th>\n",
       "      <td>3</td>\n",
       "      <td>https://m.media-amazon.com/images/I/11TU2clswz...</td>\n",
       "      <td>792578</td>\n",
       "      <td>depth</td>\n",
       "    </tr>\n",
       "    <tr>\n",
       "      <th>4</th>\n",
       "      <td>4</td>\n",
       "      <td>https://m.media-amazon.com/images/I/11gHj8dhhr...</td>\n",
       "      <td>792578</td>\n",
       "      <td>depth</td>\n",
       "    </tr>\n",
       "  </tbody>\n",
       "</table>\n",
       "</div>"
      ],
      "text/plain": [
       "   index                                         image_link  group_id  \\\n",
       "0      0  https://m.media-amazon.com/images/I/110EibNycl...    156839   \n",
       "1      1  https://m.media-amazon.com/images/I/11TU2clswz...    792578   \n",
       "2      2  https://m.media-amazon.com/images/I/11TU2clswz...    792578   \n",
       "3      3  https://m.media-amazon.com/images/I/11TU2clswz...    792578   \n",
       "4      4  https://m.media-amazon.com/images/I/11gHj8dhhr...    792578   \n",
       "\n",
       "  entity_name  \n",
       "0      height  \n",
       "1       width  \n",
       "2      height  \n",
       "3       depth  \n",
       "4       depth  "
      ]
     },
     "execution_count": 137,
     "metadata": {},
     "output_type": "execute_result"
    }
   ],
   "source": [
    "import pandas as pd\n",
    "df=pd.read_csv('../dataset/test.csv')\n",
    "df.head()"
   ]
  },
  {
   "cell_type": "code",
   "execution_count": 156,
   "metadata": {},
   "outputs": [],
   "source": [
    "df=df.iloc[:40000]"
   ]
  },
  {
   "cell_type": "code",
   "execution_count": 157,
   "metadata": {},
   "outputs": [
    {
     "ename": "NameError",
     "evalue": "name 'combined_list' is not defined",
     "output_type": "error",
     "traceback": [
      "\u001b[1;31m---------------------------------------------------------------------------\u001b[0m",
      "\u001b[1;31mNameError\u001b[0m                                 Traceback (most recent call last)",
      "Cell \u001b[1;32mIn[157], line 1\u001b[0m\n\u001b[1;32m----> 1\u001b[0m df[\u001b[38;5;124m'\u001b[39m\u001b[38;5;124mpredicted_entity\u001b[39m\u001b[38;5;124m'\u001b[39m]\u001b[38;5;241m=\u001b[39m\u001b[43mcombined_list\u001b[49m\n\u001b[0;32m      2\u001b[0m df\u001b[38;5;241m.\u001b[39mhead()\n",
      "\u001b[1;31mNameError\u001b[0m: name 'combined_list' is not defined"
     ]
    }
   ],
   "source": [
    "df['predicted_entity']=combined_list\n",
    "df.head()"
   ]
  },
  {
   "cell_type": "code",
   "execution_count": 20,
   "metadata": {},
   "outputs": [],
   "source": [
    "df.to_csv(\"First_40k_predictions.csv\", index=False)"
   ]
  },
  {
   "cell_type": "code",
   "execution_count": 1,
   "metadata": {},
   "outputs": [],
   "source": [
    "import pandas as pd\n",
    "df1=pd.read_csv('First_40k_predictions.csv')\n",
    "df2=pd.read_csv('40k_85k_predictions.csv')\n",
    "df3=pd.read_csv('combined_data_85000onwards.csv')"
   ]
  },
  {
   "cell_type": "code",
   "execution_count": 2,
   "metadata": {},
   "outputs": [
    {
     "data": {
      "text/html": [
       "<div>\n",
       "<style scoped>\n",
       "    .dataframe tbody tr th:only-of-type {\n",
       "        vertical-align: middle;\n",
       "    }\n",
       "\n",
       "    .dataframe tbody tr th {\n",
       "        vertical-align: top;\n",
       "    }\n",
       "\n",
       "    .dataframe thead th {\n",
       "        text-align: right;\n",
       "    }\n",
       "</style>\n",
       "<table border=\"1\" class=\"dataframe\">\n",
       "  <thead>\n",
       "    <tr style=\"text-align: right;\">\n",
       "      <th></th>\n",
       "      <th>index</th>\n",
       "      <th>image_link</th>\n",
       "      <th>group_id</th>\n",
       "      <th>entity_name</th>\n",
       "      <th>predicted_entity</th>\n",
       "    </tr>\n",
       "  </thead>\n",
       "  <tbody>\n",
       "    <tr>\n",
       "      <th>0</th>\n",
       "      <td>0</td>\n",
       "      <td>https://m.media-amazon.com/images/I/110EibNycl...</td>\n",
       "      <td>156839</td>\n",
       "      <td>height</td>\n",
       "      <td>empty</td>\n",
       "    </tr>\n",
       "    <tr>\n",
       "      <th>1</th>\n",
       "      <td>1</td>\n",
       "      <td>https://m.media-amazon.com/images/I/11TU2clswz...</td>\n",
       "      <td>792578</td>\n",
       "      <td>width</td>\n",
       "      <td>200centimeter</td>\n",
       "    </tr>\n",
       "    <tr>\n",
       "      <th>2</th>\n",
       "      <td>2</td>\n",
       "      <td>https://m.media-amazon.com/images/I/11TU2clswz...</td>\n",
       "      <td>792578</td>\n",
       "      <td>height</td>\n",
       "      <td>200centimeter</td>\n",
       "    </tr>\n",
       "    <tr>\n",
       "      <th>3</th>\n",
       "      <td>3</td>\n",
       "      <td>https://m.media-amazon.com/images/I/11TU2clswz...</td>\n",
       "      <td>792578</td>\n",
       "      <td>depth</td>\n",
       "      <td>200centimeter</td>\n",
       "    </tr>\n",
       "    <tr>\n",
       "      <th>4</th>\n",
       "      <td>4</td>\n",
       "      <td>https://m.media-amazon.com/images/I/11gHj8dhhr...</td>\n",
       "      <td>792578</td>\n",
       "      <td>depth</td>\n",
       "      <td>10.50centimeter</td>\n",
       "    </tr>\n",
       "  </tbody>\n",
       "</table>\n",
       "</div>"
      ],
      "text/plain": [
       "   index                                         image_link  group_id  \\\n",
       "0      0  https://m.media-amazon.com/images/I/110EibNycl...    156839   \n",
       "1      1  https://m.media-amazon.com/images/I/11TU2clswz...    792578   \n",
       "2      2  https://m.media-amazon.com/images/I/11TU2clswz...    792578   \n",
       "3      3  https://m.media-amazon.com/images/I/11TU2clswz...    792578   \n",
       "4      4  https://m.media-amazon.com/images/I/11gHj8dhhr...    792578   \n",
       "\n",
       "  entity_name predicted_entity  \n",
       "0      height            empty  \n",
       "1       width    200centimeter  \n",
       "2      height    200centimeter  \n",
       "3       depth    200centimeter  \n",
       "4       depth  10.50centimeter  "
      ]
     },
     "execution_count": 2,
     "metadata": {},
     "output_type": "execute_result"
    }
   ],
   "source": [
    "df1.head()"
   ]
  },
  {
   "cell_type": "code",
   "execution_count": 3,
   "metadata": {},
   "outputs": [
    {
     "data": {
      "text/html": [
       "<div>\n",
       "<style scoped>\n",
       "    .dataframe tbody tr th:only-of-type {\n",
       "        vertical-align: middle;\n",
       "    }\n",
       "\n",
       "    .dataframe tbody tr th {\n",
       "        vertical-align: top;\n",
       "    }\n",
       "\n",
       "    .dataframe thead th {\n",
       "        text-align: right;\n",
       "    }\n",
       "</style>\n",
       "<table border=\"1\" class=\"dataframe\">\n",
       "  <thead>\n",
       "    <tr style=\"text-align: right;\">\n",
       "      <th></th>\n",
       "      <th>index</th>\n",
       "      <th>image_link</th>\n",
       "      <th>group_id</th>\n",
       "      <th>entity_name</th>\n",
       "      <th>extracted_text</th>\n",
       "      <th>predicted_entity</th>\n",
       "    </tr>\n",
       "  </thead>\n",
       "  <tbody>\n",
       "    <tr>\n",
       "      <th>0</th>\n",
       "      <td>40045</td>\n",
       "      <td>https://m.media-amazon.com/images/I/51L5QalPIH...</td>\n",
       "      <td>478357</td>\n",
       "      <td>height</td>\n",
       "      <td>16.54 12.60\" 4.13 4.13\" 20.08\" 10.63\"</td>\n",
       "      <td>empty</td>\n",
       "    </tr>\n",
       "    <tr>\n",
       "      <th>1</th>\n",
       "      <td>40046</td>\n",
       "      <td>https://m.media-amazon.com/images/I/51L5UdmgBA...</td>\n",
       "      <td>150535</td>\n",
       "      <td>width</td>\n",
       "      <td>SunNap 65 mm 230 mm 23cm 1/1y7 507</td>\n",
       "      <td>65millimeter</td>\n",
       "    </tr>\n",
       "    <tr>\n",
       "      <th>2</th>\n",
       "      <td>40047</td>\n",
       "      <td>https://m.media-amazon.com/images/I/51L5UdmgBA...</td>\n",
       "      <td>150535</td>\n",
       "      <td>depth</td>\n",
       "      <td>SunNap 65 mm 230 mm 23cm 1/1y7 507</td>\n",
       "      <td>65millimeter</td>\n",
       "    </tr>\n",
       "    <tr>\n",
       "      <th>3</th>\n",
       "      <td>40048</td>\n",
       "      <td>https://m.media-amazon.com/images/I/51L5YofPww...</td>\n",
       "      <td>235693</td>\n",
       "      <td>width</td>\n",
       "      <td>65cm 96cm 8.5cm 46cm 35cm</td>\n",
       "      <td>65centimeter</td>\n",
       "    </tr>\n",
       "    <tr>\n",
       "      <th>4</th>\n",
       "      <td>40049</td>\n",
       "      <td>https://m.media-amazon.com/images/I/51L5ePmoDd...</td>\n",
       "      <td>478357</td>\n",
       "      <td>width</td>\n",
       "      <td>30\" 66' 36</td>\n",
       "      <td>empty</td>\n",
       "    </tr>\n",
       "  </tbody>\n",
       "</table>\n",
       "</div>"
      ],
      "text/plain": [
       "   index                                         image_link  group_id  \\\n",
       "0  40045  https://m.media-amazon.com/images/I/51L5QalPIH...    478357   \n",
       "1  40046  https://m.media-amazon.com/images/I/51L5UdmgBA...    150535   \n",
       "2  40047  https://m.media-amazon.com/images/I/51L5UdmgBA...    150535   \n",
       "3  40048  https://m.media-amazon.com/images/I/51L5YofPww...    235693   \n",
       "4  40049  https://m.media-amazon.com/images/I/51L5ePmoDd...    478357   \n",
       "\n",
       "  entity_name                         extracted_text predicted_entity  \n",
       "0      height  16.54 12.60\" 4.13 4.13\" 20.08\" 10.63\"            empty  \n",
       "1       width     SunNap 65 mm 230 mm 23cm 1/1y7 507     65millimeter  \n",
       "2       depth     SunNap 65 mm 230 mm 23cm 1/1y7 507     65millimeter  \n",
       "3       width              65cm 96cm 8.5cm 46cm 35cm     65centimeter  \n",
       "4       width                             30\" 66' 36            empty  "
      ]
     },
     "execution_count": 3,
     "metadata": {},
     "output_type": "execute_result"
    }
   ],
   "source": [
    "df2.head()"
   ]
  },
  {
   "cell_type": "code",
   "execution_count": 5,
   "metadata": {},
   "outputs": [
    {
     "data": {
      "text/html": [
       "<div>\n",
       "<style scoped>\n",
       "    .dataframe tbody tr th:only-of-type {\n",
       "        vertical-align: middle;\n",
       "    }\n",
       "\n",
       "    .dataframe tbody tr th {\n",
       "        vertical-align: top;\n",
       "    }\n",
       "\n",
       "    .dataframe thead th {\n",
       "        text-align: right;\n",
       "    }\n",
       "</style>\n",
       "<table border=\"1\" class=\"dataframe\">\n",
       "  <thead>\n",
       "    <tr style=\"text-align: right;\">\n",
       "      <th></th>\n",
       "      <th>index</th>\n",
       "      <th>image_link</th>\n",
       "      <th>group_id</th>\n",
       "      <th>entity_name</th>\n",
       "      <th>extracted_text</th>\n",
       "      <th>predicted_entity</th>\n",
       "    </tr>\n",
       "  </thead>\n",
       "  <tbody>\n",
       "    <tr>\n",
       "      <th>0</th>\n",
       "      <td>85069</td>\n",
       "      <td>https://m.media-amazon.com/images/I/612bkk2IQW...</td>\n",
       "      <td>784538</td>\n",
       "      <td>depth</td>\n",
       "      <td>27.5 inch 10 inch</td>\n",
       "      <td>27.5inch</td>\n",
       "    </tr>\n",
       "    <tr>\n",
       "      <th>1</th>\n",
       "      <td>85070</td>\n",
       "      <td>https://m.media-amazon.com/images/I/612bkk2IQW...</td>\n",
       "      <td>784538</td>\n",
       "      <td>width</td>\n",
       "      <td>27.5 inch 10 inch</td>\n",
       "      <td>27.5inch</td>\n",
       "    </tr>\n",
       "    <tr>\n",
       "      <th>2</th>\n",
       "      <td>85071</td>\n",
       "      <td>https://m.media-amazon.com/images/I/612bkk2IQW...</td>\n",
       "      <td>784538</td>\n",
       "      <td>height</td>\n",
       "      <td>27.5 inch 10 inch</td>\n",
       "      <td>27.5inch</td>\n",
       "    </tr>\n",
       "    <tr>\n",
       "      <th>3</th>\n",
       "      <td>85072</td>\n",
       "      <td>https://m.media-amazon.com/images/I/612bo-guQ6...</td>\n",
       "      <td>416664</td>\n",
       "      <td>depth</td>\n",
       "      <td>12 1/2\" 8\" 21\"</td>\n",
       "      <td>empty</td>\n",
       "    </tr>\n",
       "    <tr>\n",
       "      <th>4</th>\n",
       "      <td>85073</td>\n",
       "      <td>https://m.media-amazon.com/images/I/612bo-guQ6...</td>\n",
       "      <td>416664</td>\n",
       "      <td>width</td>\n",
       "      <td>12 1/2\" 8\" 21\"</td>\n",
       "      <td>empty</td>\n",
       "    </tr>\n",
       "  </tbody>\n",
       "</table>\n",
       "</div>"
      ],
      "text/plain": [
       "   index                                         image_link  group_id  \\\n",
       "0  85069  https://m.media-amazon.com/images/I/612bkk2IQW...    784538   \n",
       "1  85070  https://m.media-amazon.com/images/I/612bkk2IQW...    784538   \n",
       "2  85071  https://m.media-amazon.com/images/I/612bkk2IQW...    784538   \n",
       "3  85072  https://m.media-amazon.com/images/I/612bo-guQ6...    416664   \n",
       "4  85073  https://m.media-amazon.com/images/I/612bo-guQ6...    416664   \n",
       "\n",
       "  entity_name     extracted_text predicted_entity  \n",
       "0       depth  27.5 inch 10 inch         27.5inch  \n",
       "1       width  27.5 inch 10 inch         27.5inch  \n",
       "2      height  27.5 inch 10 inch         27.5inch  \n",
       "3       depth     12 1/2\" 8\" 21\"            empty  \n",
       "4       width     12 1/2\" 8\" 21\"            empty  "
      ]
     },
     "execution_count": 5,
     "metadata": {},
     "output_type": "execute_result"
    }
   ],
   "source": [
    "df3.head()"
   ]
  },
  {
   "cell_type": "code",
   "execution_count": 138,
   "metadata": {},
   "outputs": [
    {
     "data": {
      "text/html": [
       "<div>\n",
       "<style scoped>\n",
       "    .dataframe tbody tr th:only-of-type {\n",
       "        vertical-align: middle;\n",
       "    }\n",
       "\n",
       "    .dataframe tbody tr th {\n",
       "        vertical-align: top;\n",
       "    }\n",
       "\n",
       "    .dataframe thead th {\n",
       "        text-align: right;\n",
       "    }\n",
       "</style>\n",
       "<table border=\"1\" class=\"dataframe\">\n",
       "  <thead>\n",
       "    <tr style=\"text-align: right;\">\n",
       "      <th></th>\n",
       "      <th>index</th>\n",
       "      <th>image_link</th>\n",
       "      <th>group_id</th>\n",
       "      <th>entity_name</th>\n",
       "    </tr>\n",
       "  </thead>\n",
       "  <tbody>\n",
       "    <tr>\n",
       "      <th>0</th>\n",
       "      <td>0</td>\n",
       "      <td>https://m.media-amazon.com/images/I/110EibNycl...</td>\n",
       "      <td>156839</td>\n",
       "      <td>height</td>\n",
       "    </tr>\n",
       "    <tr>\n",
       "      <th>1</th>\n",
       "      <td>1</td>\n",
       "      <td>https://m.media-amazon.com/images/I/11TU2clswz...</td>\n",
       "      <td>792578</td>\n",
       "      <td>width</td>\n",
       "    </tr>\n",
       "    <tr>\n",
       "      <th>2</th>\n",
       "      <td>2</td>\n",
       "      <td>https://m.media-amazon.com/images/I/11TU2clswz...</td>\n",
       "      <td>792578</td>\n",
       "      <td>height</td>\n",
       "    </tr>\n",
       "    <tr>\n",
       "      <th>3</th>\n",
       "      <td>3</td>\n",
       "      <td>https://m.media-amazon.com/images/I/11TU2clswz...</td>\n",
       "      <td>792578</td>\n",
       "      <td>depth</td>\n",
       "    </tr>\n",
       "    <tr>\n",
       "      <th>4</th>\n",
       "      <td>4</td>\n",
       "      <td>https://m.media-amazon.com/images/I/11gHj8dhhr...</td>\n",
       "      <td>792578</td>\n",
       "      <td>depth</td>\n",
       "    </tr>\n",
       "  </tbody>\n",
       "</table>\n",
       "</div>"
      ],
      "text/plain": [
       "   index                                         image_link  group_id  \\\n",
       "0      0  https://m.media-amazon.com/images/I/110EibNycl...    156839   \n",
       "1      1  https://m.media-amazon.com/images/I/11TU2clswz...    792578   \n",
       "2      2  https://m.media-amazon.com/images/I/11TU2clswz...    792578   \n",
       "3      3  https://m.media-amazon.com/images/I/11TU2clswz...    792578   \n",
       "4      4  https://m.media-amazon.com/images/I/11gHj8dhhr...    792578   \n",
       "\n",
       "  entity_name  \n",
       "0      height  \n",
       "1       width  \n",
       "2      height  \n",
       "3       depth  \n",
       "4       depth  "
      ]
     },
     "execution_count": 138,
     "metadata": {},
     "output_type": "execute_result"
    }
   ],
   "source": [
    "df=pd.read_csv('../dataset/test.csv')\n",
    "df.head()"
   ]
  },
  {
   "cell_type": "code",
   "execution_count": 139,
   "metadata": {},
   "outputs": [],
   "source": [
    "all_predictions=joblib.load('final.pkl')"
   ]
  },
  {
   "cell_type": "code",
   "execution_count": 140,
   "metadata": {},
   "outputs": [
    {
     "data": {
      "text/html": [
       "<div>\n",
       "<style scoped>\n",
       "    .dataframe tbody tr th:only-of-type {\n",
       "        vertical-align: middle;\n",
       "    }\n",
       "\n",
       "    .dataframe tbody tr th {\n",
       "        vertical-align: top;\n",
       "    }\n",
       "\n",
       "    .dataframe thead th {\n",
       "        text-align: right;\n",
       "    }\n",
       "</style>\n",
       "<table border=\"1\" class=\"dataframe\">\n",
       "  <thead>\n",
       "    <tr style=\"text-align: right;\">\n",
       "      <th></th>\n",
       "      <th>index</th>\n",
       "      <th>entity_name</th>\n",
       "      <th>prediction</th>\n",
       "    </tr>\n",
       "  </thead>\n",
       "  <tbody>\n",
       "    <tr>\n",
       "      <th>0</th>\n",
       "      <td>0</td>\n",
       "      <td>height</td>\n",
       "      <td>empty</td>\n",
       "    </tr>\n",
       "    <tr>\n",
       "      <th>1</th>\n",
       "      <td>1</td>\n",
       "      <td>width</td>\n",
       "      <td>42centimeter</td>\n",
       "    </tr>\n",
       "    <tr>\n",
       "      <th>2</th>\n",
       "      <td>2</td>\n",
       "      <td>height</td>\n",
       "      <td>42centimeter</td>\n",
       "    </tr>\n",
       "    <tr>\n",
       "      <th>3</th>\n",
       "      <td>3</td>\n",
       "      <td>depth</td>\n",
       "      <td>42centimeter</td>\n",
       "    </tr>\n",
       "    <tr>\n",
       "      <th>4</th>\n",
       "      <td>4</td>\n",
       "      <td>depth</td>\n",
       "      <td>10.50centimeter</td>\n",
       "    </tr>\n",
       "  </tbody>\n",
       "</table>\n",
       "</div>"
      ],
      "text/plain": [
       "   index entity_name       prediction\n",
       "0      0      height            empty\n",
       "1      1       width     42centimeter\n",
       "2      2      height     42centimeter\n",
       "3      3       depth     42centimeter\n",
       "4      4       depth  10.50centimeter"
      ]
     },
     "execution_count": 140,
     "metadata": {},
     "output_type": "execute_result"
    }
   ],
   "source": [
    "df['prediction']=all_predictions\n",
    "df=df[['index','entity_name', 'prediction']]\n",
    "df.head()"
   ]
  },
  {
   "cell_type": "code",
   "execution_count": 141,
   "metadata": {},
   "outputs": [
    {
     "data": {
      "text/plain": [
       "index          0\n",
       "entity_name    0\n",
       "prediction     0\n",
       "dtype: int64"
      ]
     },
     "execution_count": 141,
     "metadata": {},
     "output_type": "execute_result"
    }
   ],
   "source": [
    "df.isnull().sum()"
   ]
  },
  {
   "cell_type": "code",
   "execution_count": 142,
   "metadata": {},
   "outputs": [
    {
     "name": "stdout",
     "output_type": "stream",
     "text": [
      "         index                    entity_name         prediction\n",
      "131        131                          width        25.6inch(65\n",
      "147        147                    item_volume         20/20liter\n",
      "182        182                         height     74,5centimeter\n",
      "209        209                    item_weight       11,8kilogram\n",
      "227        227                    item_weight         4ounce/113\n",
      "...        ...                            ...                ...\n",
      "130897  130998                    item_volume  100milliliter/3.5\n",
      "130902  131003                    item_weight       1.75ounce/50\n",
      "130909  131010  maximum_weight_recommendation       30,000pounds\n",
      "130918  131019                    item_weight    11,3kilogram|25\n",
      "131182  131283  maximum_weight_recommendation         1,500pound\n",
      "\n",
      "[3263 rows x 3 columns]\n"
     ]
    }
   ],
   "source": [
    "pattern = r'[^a-zA-Z0-9.\\s]'\n",
    "\n",
    "# Find rows with invalid characters in the 'prediction' column\n",
    "invalid_rows = df[df['prediction'].str.contains(pattern, regex=True)]\n",
    "\n",
    "print(invalid_rows)"
   ]
  },
  {
   "cell_type": "code",
   "execution_count": 143,
   "metadata": {},
   "outputs": [
    {
     "data": {
      "text/html": [
       "<div>\n",
       "<style scoped>\n",
       "    .dataframe tbody tr th:only-of-type {\n",
       "        vertical-align: middle;\n",
       "    }\n",
       "\n",
       "    .dataframe tbody tr th {\n",
       "        vertical-align: top;\n",
       "    }\n",
       "\n",
       "    .dataframe thead th {\n",
       "        text-align: right;\n",
       "    }\n",
       "</style>\n",
       "<table border=\"1\" class=\"dataframe\">\n",
       "  <thead>\n",
       "    <tr style=\"text-align: right;\">\n",
       "      <th></th>\n",
       "      <th>index</th>\n",
       "      <th>entity_name</th>\n",
       "      <th>prediction</th>\n",
       "    </tr>\n",
       "  </thead>\n",
       "  <tbody>\n",
       "    <tr>\n",
       "      <th>0</th>\n",
       "      <td>0</td>\n",
       "      <td>height</td>\n",
       "      <td>empty</td>\n",
       "    </tr>\n",
       "    <tr>\n",
       "      <th>1</th>\n",
       "      <td>1</td>\n",
       "      <td>width</td>\n",
       "      <td>42centimeter</td>\n",
       "    </tr>\n",
       "    <tr>\n",
       "      <th>2</th>\n",
       "      <td>2</td>\n",
       "      <td>height</td>\n",
       "      <td>42centimeter</td>\n",
       "    </tr>\n",
       "    <tr>\n",
       "      <th>3</th>\n",
       "      <td>3</td>\n",
       "      <td>depth</td>\n",
       "      <td>42centimeter</td>\n",
       "    </tr>\n",
       "    <tr>\n",
       "      <th>4</th>\n",
       "      <td>4</td>\n",
       "      <td>depth</td>\n",
       "      <td>10.50centimeter</td>\n",
       "    </tr>\n",
       "  </tbody>\n",
       "</table>\n",
       "</div>"
      ],
      "text/plain": [
       "   index entity_name       prediction\n",
       "0      0      height            empty\n",
       "1      1       width     42centimeter\n",
       "2      2      height     42centimeter\n",
       "3      3       depth     42centimeter\n",
       "4      4       depth  10.50centimeter"
      ]
     },
     "execution_count": 143,
     "metadata": {},
     "output_type": "execute_result"
    }
   ],
   "source": [
    "import re\n",
    "def split_by_first_invalid_char(s):\n",
    "    match = re.search(pattern, s)\n",
    "    if match:\n",
    "        return s.split(match.group(0))[0]  # Split at the first occurrence of invalid char and take the first part\n",
    "    return s  # If no invalid character is found, return the string as is\n",
    "\n",
    "# Apply the function to the 'prediction' column\n",
    "df['prediction'] = df['prediction'].apply(split_by_first_invalid_char)\n",
    "df.head()"
   ]
  },
  {
   "cell_type": "code",
   "execution_count": 144,
   "metadata": {},
   "outputs": [],
   "source": [
    "entity_unit_map = {\n",
    "    'width': '8.0centimetre',\n",
    "    'depth': '10.0centimetre',\n",
    "    'height': '25.0centimetre',\n",
    "    'item_weight': '50.0gram',\n",
    "    'maximum_weight_recommendation': '50.0gram',\n",
    "    'voltage': '10.0volt',\n",
    "    'wattage': '10.0watt',\n",
    "    'item_volume': '10.0litre'\n",
    "}\n"
   ]
  },
  {
   "cell_type": "code",
   "execution_count": 145,
   "metadata": {},
   "outputs": [
    {
     "data": {
      "text/plain": [
       "index              76\n",
       "entity_name    height\n",
       "prediction      empty\n",
       "Name: 76, dtype: object"
      ]
     },
     "execution_count": 145,
     "metadata": {},
     "output_type": "execute_result"
    }
   ],
   "source": [
    "df.loc[76]"
   ]
  },
  {
   "cell_type": "code",
   "execution_count": 146,
   "metadata": {},
   "outputs": [],
   "source": [
    "df['prediction'] = df.apply(lambda row: entity_unit_map.get(row['entity_name'], row['prediction']) \n",
    "                            if row['prediction'] == 'empty' else row['prediction'], axis=1)"
   ]
  },
  {
   "cell_type": "code",
   "execution_count": 147,
   "metadata": {},
   "outputs": [
    {
     "data": {
      "text/html": [
       "<div>\n",
       "<style scoped>\n",
       "    .dataframe tbody tr th:only-of-type {\n",
       "        vertical-align: middle;\n",
       "    }\n",
       "\n",
       "    .dataframe tbody tr th {\n",
       "        vertical-align: top;\n",
       "    }\n",
       "\n",
       "    .dataframe thead th {\n",
       "        text-align: right;\n",
       "    }\n",
       "</style>\n",
       "<table border=\"1\" class=\"dataframe\">\n",
       "  <thead>\n",
       "    <tr style=\"text-align: right;\">\n",
       "      <th></th>\n",
       "      <th>index</th>\n",
       "      <th>entity_name</th>\n",
       "      <th>prediction</th>\n",
       "    </tr>\n",
       "  </thead>\n",
       "  <tbody>\n",
       "    <tr>\n",
       "      <th>0</th>\n",
       "      <td>0</td>\n",
       "      <td>height</td>\n",
       "      <td>25.0centimetre</td>\n",
       "    </tr>\n",
       "    <tr>\n",
       "      <th>1</th>\n",
       "      <td>1</td>\n",
       "      <td>width</td>\n",
       "      <td>42centimeter</td>\n",
       "    </tr>\n",
       "    <tr>\n",
       "      <th>2</th>\n",
       "      <td>2</td>\n",
       "      <td>height</td>\n",
       "      <td>42centimeter</td>\n",
       "    </tr>\n",
       "    <tr>\n",
       "      <th>3</th>\n",
       "      <td>3</td>\n",
       "      <td>depth</td>\n",
       "      <td>42centimeter</td>\n",
       "    </tr>\n",
       "    <tr>\n",
       "      <th>4</th>\n",
       "      <td>4</td>\n",
       "      <td>depth</td>\n",
       "      <td>10.50centimeter</td>\n",
       "    </tr>\n",
       "  </tbody>\n",
       "</table>\n",
       "</div>"
      ],
      "text/plain": [
       "   index entity_name       prediction\n",
       "0      0      height   25.0centimetre\n",
       "1      1       width     42centimeter\n",
       "2      2      height     42centimeter\n",
       "3      3       depth     42centimeter\n",
       "4      4       depth  10.50centimeter"
      ]
     },
     "execution_count": 147,
     "metadata": {},
     "output_type": "execute_result"
    }
   ],
   "source": [
    "df.head()"
   ]
  },
  {
   "cell_type": "code",
   "execution_count": null,
   "metadata": {},
   "outputs": [],
   "source": []
  },
  {
   "cell_type": "code",
   "execution_count": 148,
   "metadata": {},
   "outputs": [
    {
     "data": {
      "text/html": [
       "<div>\n",
       "<style scoped>\n",
       "    .dataframe tbody tr th:only-of-type {\n",
       "        vertical-align: middle;\n",
       "    }\n",
       "\n",
       "    .dataframe tbody tr th {\n",
       "        vertical-align: top;\n",
       "    }\n",
       "\n",
       "    .dataframe thead th {\n",
       "        text-align: right;\n",
       "    }\n",
       "</style>\n",
       "<table border=\"1\" class=\"dataframe\">\n",
       "  <thead>\n",
       "    <tr style=\"text-align: right;\">\n",
       "      <th></th>\n",
       "      <th>index</th>\n",
       "      <th>entity_name</th>\n",
       "      <th>prediction</th>\n",
       "    </tr>\n",
       "  </thead>\n",
       "  <tbody>\n",
       "    <tr>\n",
       "      <th>0</th>\n",
       "      <td>0</td>\n",
       "      <td>height</td>\n",
       "      <td>25.0centimetre</td>\n",
       "    </tr>\n",
       "    <tr>\n",
       "      <th>1</th>\n",
       "      <td>1</td>\n",
       "      <td>width</td>\n",
       "      <td>42centimeter</td>\n",
       "    </tr>\n",
       "    <tr>\n",
       "      <th>2</th>\n",
       "      <td>2</td>\n",
       "      <td>height</td>\n",
       "      <td>42centimeter</td>\n",
       "    </tr>\n",
       "    <tr>\n",
       "      <th>3</th>\n",
       "      <td>3</td>\n",
       "      <td>depth</td>\n",
       "      <td>42centimeter</td>\n",
       "    </tr>\n",
       "    <tr>\n",
       "      <th>4</th>\n",
       "      <td>4</td>\n",
       "      <td>depth</td>\n",
       "      <td>10.50centimeter</td>\n",
       "    </tr>\n",
       "  </tbody>\n",
       "</table>\n",
       "</div>"
      ],
      "text/plain": [
       "   index entity_name       prediction\n",
       "0      0      height   25.0centimetre\n",
       "1      1       width     42centimeter\n",
       "2      2      height     42centimeter\n",
       "3      3       depth     42centimeter\n",
       "4      4       depth  10.50centimeter"
      ]
     },
     "execution_count": 148,
     "metadata": {},
     "output_type": "execute_result"
    }
   ],
   "source": [
    "pattern = r'\\d'\n",
    "\n",
    "# Function to replace predictions without numbers\n",
    "def replace_if_no_number(row):\n",
    "    if not re.search(pattern, row['prediction']):  # Check if there's no number in the prediction\n",
    "        return entity_unit_map.get(row['entity_name'], row['prediction'])  # Replace with the unit from the dictionary\n",
    "    return row['prediction']  # Return the original value if there's a number\n",
    "\n",
    "# Apply the function to the 'prediction' column\n",
    "df['prediction'] = df.apply(replace_if_no_number, axis=1)\n",
    "df.head()"
   ]
  },
  {
   "cell_type": "code",
   "execution_count": 149,
   "metadata": {},
   "outputs": [],
   "source": [
    "pattern = r'[a-zA-Z]'\n",
    "\n",
    "# Function to replace predictions with no alphabetic characters\n",
    "def replace_if_no_string(row):\n",
    "    if not re.search(pattern, row['prediction']):  # Check if there's no alphabetic character in the prediction\n",
    "        return entity_unit_map.get(row['entity_name'], row['prediction'])  # Replace with the unit from the dictionary\n",
    "    return row['prediction']  # Return the original value if alphabetic characters are present\n",
    "\n",
    "# Apply the function to the 'prediction' column\n",
    "df['prediction'] = df.apply(replace_if_no_string, axis=1)"
   ]
  },
  {
   "cell_type": "code",
   "execution_count": 150,
   "metadata": {},
   "outputs": [
    {
     "data": {
      "text/html": [
       "<div>\n",
       "<style scoped>\n",
       "    .dataframe tbody tr th:only-of-type {\n",
       "        vertical-align: middle;\n",
       "    }\n",
       "\n",
       "    .dataframe tbody tr th {\n",
       "        vertical-align: top;\n",
       "    }\n",
       "\n",
       "    .dataframe thead th {\n",
       "        text-align: right;\n",
       "    }\n",
       "</style>\n",
       "<table border=\"1\" class=\"dataframe\">\n",
       "  <thead>\n",
       "    <tr style=\"text-align: right;\">\n",
       "      <th></th>\n",
       "      <th>index</th>\n",
       "      <th>entity_name</th>\n",
       "      <th>prediction</th>\n",
       "    </tr>\n",
       "  </thead>\n",
       "  <tbody>\n",
       "    <tr>\n",
       "      <th>0</th>\n",
       "      <td>0</td>\n",
       "      <td>height</td>\n",
       "      <td>25.0centimetre</td>\n",
       "    </tr>\n",
       "    <tr>\n",
       "      <th>1</th>\n",
       "      <td>1</td>\n",
       "      <td>width</td>\n",
       "      <td>42centimeter</td>\n",
       "    </tr>\n",
       "    <tr>\n",
       "      <th>2</th>\n",
       "      <td>2</td>\n",
       "      <td>height</td>\n",
       "      <td>42centimeter</td>\n",
       "    </tr>\n",
       "    <tr>\n",
       "      <th>3</th>\n",
       "      <td>3</td>\n",
       "      <td>depth</td>\n",
       "      <td>42centimeter</td>\n",
       "    </tr>\n",
       "    <tr>\n",
       "      <th>4</th>\n",
       "      <td>4</td>\n",
       "      <td>depth</td>\n",
       "      <td>10.50centimeter</td>\n",
       "    </tr>\n",
       "  </tbody>\n",
       "</table>\n",
       "</div>"
      ],
      "text/plain": [
       "   index entity_name       prediction\n",
       "0      0      height   25.0centimetre\n",
       "1      1       width     42centimeter\n",
       "2      2      height     42centimeter\n",
       "3      3       depth     42centimeter\n",
       "4      4       depth  10.50centimeter"
      ]
     },
     "execution_count": 150,
     "metadata": {},
     "output_type": "execute_result"
    }
   ],
   "source": [
    "df.head()"
   ]
  },
  {
   "cell_type": "code",
   "execution_count": 151,
   "metadata": {},
   "outputs": [],
   "source": [
    "def clean_prediction(value):\n",
    "    # Extract numeric prefix (digits and/or decimals)\n",
    "    numeric_part = re.search(r'\\d+\\.?\\d*', value)\n",
    "    # Extract alphabetic suffix (letters only)\n",
    "    alphabetic_part = re.search(r'[a-zA-Z]+', value)\n",
    "    \n",
    "    if numeric_part and alphabetic_part:\n",
    "        return f\"{numeric_part.group(0)}{alphabetic_part.group(0)}\"\n",
    "    elif numeric_part:\n",
    "        return numeric_part.group(0)\n",
    "    elif alphabetic_part:\n",
    "        return alphabetic_part.group(0)\n",
    "    return value\n",
    "\n",
    "# Apply the function to the 'prediction' column\n",
    "df['prediction'] = df['prediction'].apply(clean_prediction)"
   ]
  },
  {
   "cell_type": "code",
   "execution_count": 152,
   "metadata": {},
   "outputs": [
    {
     "data": {
      "text/html": [
       "<div>\n",
       "<style scoped>\n",
       "    .dataframe tbody tr th:only-of-type {\n",
       "        vertical-align: middle;\n",
       "    }\n",
       "\n",
       "    .dataframe tbody tr th {\n",
       "        vertical-align: top;\n",
       "    }\n",
       "\n",
       "    .dataframe thead th {\n",
       "        text-align: right;\n",
       "    }\n",
       "</style>\n",
       "<table border=\"1\" class=\"dataframe\">\n",
       "  <thead>\n",
       "    <tr style=\"text-align: right;\">\n",
       "      <th></th>\n",
       "      <th>index</th>\n",
       "      <th>entity_name</th>\n",
       "      <th>prediction</th>\n",
       "    </tr>\n",
       "  </thead>\n",
       "  <tbody>\n",
       "    <tr>\n",
       "      <th>0</th>\n",
       "      <td>0</td>\n",
       "      <td>height</td>\n",
       "      <td>25.0centimetre</td>\n",
       "    </tr>\n",
       "    <tr>\n",
       "      <th>1</th>\n",
       "      <td>1</td>\n",
       "      <td>width</td>\n",
       "      <td>42centimeter</td>\n",
       "    </tr>\n",
       "    <tr>\n",
       "      <th>2</th>\n",
       "      <td>2</td>\n",
       "      <td>height</td>\n",
       "      <td>42centimeter</td>\n",
       "    </tr>\n",
       "    <tr>\n",
       "      <th>3</th>\n",
       "      <td>3</td>\n",
       "      <td>depth</td>\n",
       "      <td>42centimeter</td>\n",
       "    </tr>\n",
       "    <tr>\n",
       "      <th>4</th>\n",
       "      <td>4</td>\n",
       "      <td>depth</td>\n",
       "      <td>10.50centimeter</td>\n",
       "    </tr>\n",
       "  </tbody>\n",
       "</table>\n",
       "</div>"
      ],
      "text/plain": [
       "   index entity_name       prediction\n",
       "0      0      height   25.0centimetre\n",
       "1      1       width     42centimeter\n",
       "2      2      height     42centimeter\n",
       "3      3       depth     42centimeter\n",
       "4      4       depth  10.50centimeter"
      ]
     },
     "execution_count": 152,
     "metadata": {},
     "output_type": "execute_result"
    }
   ],
   "source": [
    "df.head()"
   ]
  },
  {
   "cell_type": "code",
   "execution_count": 153,
   "metadata": {},
   "outputs": [
    {
     "name": "stdout",
     "output_type": "stream",
     "text": [
      "Empty DataFrame\n",
      "Columns: [index, entity_name, prediction]\n",
      "Index: []\n"
     ]
    }
   ],
   "source": [
    "pattern = r'[a-zA-Z]+\\d'\n",
    "\n",
    "# Find rows where a string character appears before a number\n",
    "df_with_string_before_number = df[df['prediction'].str.contains(pattern, regex=True)]\n",
    "\n",
    "print(df_with_string_before_number)\n"
   ]
  },
  {
   "cell_type": "code",
   "execution_count": 154,
   "metadata": {},
   "outputs": [
    {
     "data": {
      "text/html": [
       "<div>\n",
       "<style scoped>\n",
       "    .dataframe tbody tr th:only-of-type {\n",
       "        vertical-align: middle;\n",
       "    }\n",
       "\n",
       "    .dataframe tbody tr th {\n",
       "        vertical-align: top;\n",
       "    }\n",
       "\n",
       "    .dataframe thead th {\n",
       "        text-align: right;\n",
       "    }\n",
       "</style>\n",
       "<table border=\"1\" class=\"dataframe\">\n",
       "  <thead>\n",
       "    <tr style=\"text-align: right;\">\n",
       "      <th></th>\n",
       "      <th>index</th>\n",
       "      <th>entity_name</th>\n",
       "      <th>prediction</th>\n",
       "    </tr>\n",
       "  </thead>\n",
       "  <tbody>\n",
       "    <tr>\n",
       "      <th>0</th>\n",
       "      <td>0</td>\n",
       "      <td>height</td>\n",
       "      <td>25.0centimetre</td>\n",
       "    </tr>\n",
       "    <tr>\n",
       "      <th>1</th>\n",
       "      <td>1</td>\n",
       "      <td>width</td>\n",
       "      <td>42centimeter</td>\n",
       "    </tr>\n",
       "    <tr>\n",
       "      <th>2</th>\n",
       "      <td>2</td>\n",
       "      <td>height</td>\n",
       "      <td>42centimeter</td>\n",
       "    </tr>\n",
       "    <tr>\n",
       "      <th>3</th>\n",
       "      <td>3</td>\n",
       "      <td>depth</td>\n",
       "      <td>42centimeter</td>\n",
       "    </tr>\n",
       "    <tr>\n",
       "      <th>4</th>\n",
       "      <td>4</td>\n",
       "      <td>depth</td>\n",
       "      <td>10.50centimeter</td>\n",
       "    </tr>\n",
       "  </tbody>\n",
       "</table>\n",
       "</div>"
      ],
      "text/plain": [
       "   index entity_name       prediction\n",
       "0      0      height   25.0centimetre\n",
       "1      1       width     42centimeter\n",
       "2      2      height     42centimeter\n",
       "3      3       depth     42centimeter\n",
       "4      4       depth  10.50centimeter"
      ]
     },
     "execution_count": 154,
     "metadata": {},
     "output_type": "execute_result"
    }
   ],
   "source": [
    "pattern = r'\\d'\n",
    "\n",
    "# Function to replace predictions without numbers\n",
    "def replace_if_no_number(row):\n",
    "    if not re.search(pattern, row['prediction']):  # Check if there's no number in the prediction\n",
    "        return entity_unit_map.get(row['entity_name'], row['prediction'])  # Replace with the unit from the dictionary\n",
    "    return row['prediction']  # Return the original value if there's a number\n",
    "\n",
    "# Apply the function to the 'prediction' column\n",
    "df['prediction'] = df.apply(replace_if_no_number, axis=1)\n",
    "df.head()"
   ]
  },
  {
   "cell_type": "code",
   "execution_count": 155,
   "metadata": {},
   "outputs": [],
   "source": [
    "pattern = r'[a-zA-Z]'\n",
    "\n",
    "# Function to replace predictions with no alphabetic characters\n",
    "def replace_if_no_string(row):\n",
    "    if not re.search(pattern, row['prediction']):  # Check if there's no alphabetic character in the prediction\n",
    "        return entity_unit_map.get(row['entity_name'], row['prediction'])  # Replace with the unit from the dictionary\n",
    "    return row['prediction']  # Return the original value if alphabetic characters are present\n",
    "\n",
    "# Apply the function to the 'prediction' column\n",
    "df['prediction'] = df.apply(replace_if_no_string, axis=1)"
   ]
  },
  {
   "cell_type": "code",
   "execution_count": 156,
   "metadata": {},
   "outputs": [
    {
     "data": {
      "text/html": [
       "<div>\n",
       "<style scoped>\n",
       "    .dataframe tbody tr th:only-of-type {\n",
       "        vertical-align: middle;\n",
       "    }\n",
       "\n",
       "    .dataframe tbody tr th {\n",
       "        vertical-align: top;\n",
       "    }\n",
       "\n",
       "    .dataframe thead th {\n",
       "        text-align: right;\n",
       "    }\n",
       "</style>\n",
       "<table border=\"1\" class=\"dataframe\">\n",
       "  <thead>\n",
       "    <tr style=\"text-align: right;\">\n",
       "      <th></th>\n",
       "      <th>index</th>\n",
       "      <th>entity_name</th>\n",
       "      <th>prediction</th>\n",
       "    </tr>\n",
       "  </thead>\n",
       "  <tbody>\n",
       "    <tr>\n",
       "      <th>0</th>\n",
       "      <td>0</td>\n",
       "      <td>height</td>\n",
       "      <td>25.0centimetre</td>\n",
       "    </tr>\n",
       "    <tr>\n",
       "      <th>1</th>\n",
       "      <td>1</td>\n",
       "      <td>width</td>\n",
       "      <td>42centimeter</td>\n",
       "    </tr>\n",
       "    <tr>\n",
       "      <th>2</th>\n",
       "      <td>2</td>\n",
       "      <td>height</td>\n",
       "      <td>42centimeter</td>\n",
       "    </tr>\n",
       "    <tr>\n",
       "      <th>3</th>\n",
       "      <td>3</td>\n",
       "      <td>depth</td>\n",
       "      <td>42centimeter</td>\n",
       "    </tr>\n",
       "    <tr>\n",
       "      <th>4</th>\n",
       "      <td>4</td>\n",
       "      <td>depth</td>\n",
       "      <td>10.50centimeter</td>\n",
       "    </tr>\n",
       "  </tbody>\n",
       "</table>\n",
       "</div>"
      ],
      "text/plain": [
       "   index entity_name       prediction\n",
       "0      0      height   25.0centimetre\n",
       "1      1       width     42centimeter\n",
       "2      2      height     42centimeter\n",
       "3      3       depth     42centimeter\n",
       "4      4       depth  10.50centimeter"
      ]
     },
     "execution_count": 156,
     "metadata": {},
     "output_type": "execute_result"
    }
   ],
   "source": [
    "df.head()"
   ]
  },
  {
   "cell_type": "code",
   "execution_count": 157,
   "metadata": {},
   "outputs": [],
   "source": [
    "def insert_space(value):\n",
    "    # Regular expression to match the transition from digits to letters\n",
    "    return re.sub(r'(\\d+)([a-zA-Z])', r'\\1 \\2', value)\n",
    "\n",
    "# Apply the function to the 'prediction' column\n",
    "df['prediction'] = df['prediction'].apply(insert_space)"
   ]
  },
  {
   "cell_type": "code",
   "execution_count": 158,
   "metadata": {},
   "outputs": [
    {
     "data": {
      "text/html": [
       "<div>\n",
       "<style scoped>\n",
       "    .dataframe tbody tr th:only-of-type {\n",
       "        vertical-align: middle;\n",
       "    }\n",
       "\n",
       "    .dataframe tbody tr th {\n",
       "        vertical-align: top;\n",
       "    }\n",
       "\n",
       "    .dataframe thead th {\n",
       "        text-align: right;\n",
       "    }\n",
       "</style>\n",
       "<table border=\"1\" class=\"dataframe\">\n",
       "  <thead>\n",
       "    <tr style=\"text-align: right;\">\n",
       "      <th></th>\n",
       "      <th>index</th>\n",
       "      <th>entity_name</th>\n",
       "      <th>prediction</th>\n",
       "    </tr>\n",
       "  </thead>\n",
       "  <tbody>\n",
       "    <tr>\n",
       "      <th>0</th>\n",
       "      <td>0</td>\n",
       "      <td>height</td>\n",
       "      <td>25.0 centimetre</td>\n",
       "    </tr>\n",
       "    <tr>\n",
       "      <th>1</th>\n",
       "      <td>1</td>\n",
       "      <td>width</td>\n",
       "      <td>42 centimeter</td>\n",
       "    </tr>\n",
       "    <tr>\n",
       "      <th>2</th>\n",
       "      <td>2</td>\n",
       "      <td>height</td>\n",
       "      <td>42 centimeter</td>\n",
       "    </tr>\n",
       "    <tr>\n",
       "      <th>3</th>\n",
       "      <td>3</td>\n",
       "      <td>depth</td>\n",
       "      <td>42 centimeter</td>\n",
       "    </tr>\n",
       "    <tr>\n",
       "      <th>4</th>\n",
       "      <td>4</td>\n",
       "      <td>depth</td>\n",
       "      <td>10.50 centimeter</td>\n",
       "    </tr>\n",
       "    <tr>\n",
       "      <th>5</th>\n",
       "      <td>5</td>\n",
       "      <td>height</td>\n",
       "      <td>10.50 centimeter</td>\n",
       "    </tr>\n",
       "    <tr>\n",
       "      <th>6</th>\n",
       "      <td>6</td>\n",
       "      <td>width</td>\n",
       "      <td>10.50 centimeter</td>\n",
       "    </tr>\n",
       "    <tr>\n",
       "      <th>7</th>\n",
       "      <td>7</td>\n",
       "      <td>height</td>\n",
       "      <td>25.0 centimetre</td>\n",
       "    </tr>\n",
       "    <tr>\n",
       "      <th>8</th>\n",
       "      <td>8</td>\n",
       "      <td>width</td>\n",
       "      <td>40 centimeter</td>\n",
       "    </tr>\n",
       "    <tr>\n",
       "      <th>9</th>\n",
       "      <td>9</td>\n",
       "      <td>height</td>\n",
       "      <td>25.0 centimetre</td>\n",
       "    </tr>\n",
       "    <tr>\n",
       "      <th>10</th>\n",
       "      <td>10</td>\n",
       "      <td>item_weight</td>\n",
       "      <td>50.0 gram</td>\n",
       "    </tr>\n",
       "    <tr>\n",
       "      <th>11</th>\n",
       "      <td>11</td>\n",
       "      <td>width</td>\n",
       "      <td>8.0 centimetre</td>\n",
       "    </tr>\n",
       "    <tr>\n",
       "      <th>12</th>\n",
       "      <td>12</td>\n",
       "      <td>depth</td>\n",
       "      <td>10.0 centimetre</td>\n",
       "    </tr>\n",
       "    <tr>\n",
       "      <th>13</th>\n",
       "      <td>13</td>\n",
       "      <td>height</td>\n",
       "      <td>25.0 centimetre</td>\n",
       "    </tr>\n",
       "    <tr>\n",
       "      <th>14</th>\n",
       "      <td>14</td>\n",
       "      <td>width</td>\n",
       "      <td>8.0 centimetre</td>\n",
       "    </tr>\n",
       "    <tr>\n",
       "      <th>15</th>\n",
       "      <td>15</td>\n",
       "      <td>item_weight</td>\n",
       "      <td>50.0 gram</td>\n",
       "    </tr>\n",
       "    <tr>\n",
       "      <th>16</th>\n",
       "      <td>16</td>\n",
       "      <td>maximum_weight_recommendation</td>\n",
       "      <td>50.0 gram</td>\n",
       "    </tr>\n",
       "    <tr>\n",
       "      <th>17</th>\n",
       "      <td>17</td>\n",
       "      <td>item_weight</td>\n",
       "      <td>2 gram</td>\n",
       "    </tr>\n",
       "    <tr>\n",
       "      <th>18</th>\n",
       "      <td>18</td>\n",
       "      <td>wattage</td>\n",
       "      <td>10.0 watt</td>\n",
       "    </tr>\n",
       "    <tr>\n",
       "      <th>19</th>\n",
       "      <td>19</td>\n",
       "      <td>voltage</td>\n",
       "      <td>240 volt</td>\n",
       "    </tr>\n",
       "  </tbody>\n",
       "</table>\n",
       "</div>"
      ],
      "text/plain": [
       "    index                    entity_name        prediction\n",
       "0       0                         height   25.0 centimetre\n",
       "1       1                          width     42 centimeter\n",
       "2       2                         height     42 centimeter\n",
       "3       3                          depth     42 centimeter\n",
       "4       4                          depth  10.50 centimeter\n",
       "5       5                         height  10.50 centimeter\n",
       "6       6                          width  10.50 centimeter\n",
       "7       7                         height   25.0 centimetre\n",
       "8       8                          width     40 centimeter\n",
       "9       9                         height   25.0 centimetre\n",
       "10     10                    item_weight         50.0 gram\n",
       "11     11                          width    8.0 centimetre\n",
       "12     12                          depth   10.0 centimetre\n",
       "13     13                         height   25.0 centimetre\n",
       "14     14                          width    8.0 centimetre\n",
       "15     15                    item_weight         50.0 gram\n",
       "16     16  maximum_weight_recommendation         50.0 gram\n",
       "17     17                    item_weight            2 gram\n",
       "18     18                        wattage         10.0 watt\n",
       "19     19                        voltage          240 volt"
      ]
     },
     "execution_count": 158,
     "metadata": {},
     "output_type": "execute_result"
    }
   ],
   "source": [
    "df.head(20)"
   ]
  },
  {
   "cell_type": "code",
   "execution_count": 159,
   "metadata": {},
   "outputs": [],
   "source": [
    "valid=['pint', 'microlitre', 'centimetre', 'microgram', 'imperial gallon', 'litre', 'kilovolt', 'millilitre', 'quart', 'gram', 'fluid ounce', 'yard', 'cup', 'milligram', 'millimetre', 'centilitre', 'gallon', 'ounce', 'cubic inch', 'inch', 'watt', 'kilowatt', 'metre', 'decilitre', 'ton', 'cubic foot', 'volt', 'kilogram', 'pound', 'foot', 'millivolt']"
   ]
  },
  {
   "cell_type": "code",
   "execution_count": 160,
   "metadata": {},
   "outputs": [
    {
     "data": {
      "text/plain": [
       "'17.0 centimeter'"
      ]
     },
     "execution_count": 160,
     "metadata": {},
     "output_type": "execute_result"
    }
   ],
   "source": [
    "df['prediction'].loc[3123]"
   ]
  },
  {
   "cell_type": "code",
   "execution_count": 161,
   "metadata": {},
   "outputs": [
    {
     "name": "stdout",
     "output_type": "stream",
     "text": [
      "    index                    entity_name        prediction\n",
      "0       0                         height   25.0 centimetre\n",
      "1       1                          width     42 centimetre\n",
      "2       2                         height     42 centimetre\n",
      "3       3                          depth     42 centimetre\n",
      "4       4                          depth  10.50 centimetre\n",
      "5       5                         height  10.50 centimetre\n",
      "6       6                          width  10.50 centimetre\n",
      "7       7                         height   25.0 centimetre\n",
      "8       8                          width     40 centimetre\n",
      "9       9                         height   25.0 centimetre\n",
      "10     10                    item_weight         50.0 gram\n",
      "11     11                          width    8.0 centimetre\n",
      "12     12                          depth   10.0 centimetre\n",
      "13     13                         height   25.0 centimetre\n",
      "14     14                          width    8.0 centimetre\n",
      "15     15                    item_weight         50.0 gram\n",
      "16     16  maximum_weight_recommendation         50.0 gram\n",
      "17     17                    item_weight            2 gram\n",
      "18     18                        wattage         10.0 watt\n",
      "19     19                        voltage          240 volt\n"
     ]
    }
   ],
   "source": [
    "df['prediction'] = df['prediction'].str.replace('meter', 'metre').str.replace('liter', 'litre')\n",
    "\n",
    "# Verify the changes\n",
    "print(df.head(20))\n"
   ]
  },
  {
   "cell_type": "code",
   "execution_count": null,
   "metadata": {},
   "outputs": [],
   "source": []
  },
  {
   "cell_type": "code",
   "execution_count": 162,
   "metadata": {},
   "outputs": [],
   "source": [
    "def process_prediction(row):\n",
    "    value, unit = re.match(r'([\\d.]+)\\s*(\\w+)', row['prediction']).groups()\n",
    "    if unit not in valid:\n",
    "        # Replace with corresponding value from entity_unit_map if entity_name matches\n",
    "        return entity_unit_map.get(row['entity_name'], row['prediction'])\n",
    "    return row['prediction']\n",
    "\n",
    "# Apply the function to process the 'prediction' column\n",
    "df['prediction'] = df.apply(process_prediction, axis=1)"
   ]
  },
  {
   "cell_type": "code",
   "execution_count": 163,
   "metadata": {},
   "outputs": [],
   "source": [
    "# df.to_csv('submission1_entity_name.csv', index=False)"
   ]
  },
  {
   "cell_type": "code",
   "execution_count": 164,
   "metadata": {},
   "outputs": [
    {
     "data": {
      "text/html": [
       "<div>\n",
       "<style scoped>\n",
       "    .dataframe tbody tr th:only-of-type {\n",
       "        vertical-align: middle;\n",
       "    }\n",
       "\n",
       "    .dataframe tbody tr th {\n",
       "        vertical-align: top;\n",
       "    }\n",
       "\n",
       "    .dataframe thead th {\n",
       "        text-align: right;\n",
       "    }\n",
       "</style>\n",
       "<table border=\"1\" class=\"dataframe\">\n",
       "  <thead>\n",
       "    <tr style=\"text-align: right;\">\n",
       "      <th></th>\n",
       "      <th>index</th>\n",
       "      <th>entity_name</th>\n",
       "      <th>prediction</th>\n",
       "    </tr>\n",
       "  </thead>\n",
       "  <tbody>\n",
       "    <tr>\n",
       "      <th>0</th>\n",
       "      <td>0</td>\n",
       "      <td>height</td>\n",
       "      <td>25.0 centimetre</td>\n",
       "    </tr>\n",
       "    <tr>\n",
       "      <th>1</th>\n",
       "      <td>1</td>\n",
       "      <td>width</td>\n",
       "      <td>42 centimetre</td>\n",
       "    </tr>\n",
       "    <tr>\n",
       "      <th>2</th>\n",
       "      <td>2</td>\n",
       "      <td>height</td>\n",
       "      <td>42 centimetre</td>\n",
       "    </tr>\n",
       "    <tr>\n",
       "      <th>3</th>\n",
       "      <td>3</td>\n",
       "      <td>depth</td>\n",
       "      <td>42 centimetre</td>\n",
       "    </tr>\n",
       "    <tr>\n",
       "      <th>4</th>\n",
       "      <td>4</td>\n",
       "      <td>depth</td>\n",
       "      <td>10.50 centimetre</td>\n",
       "    </tr>\n",
       "    <tr>\n",
       "      <th>5</th>\n",
       "      <td>5</td>\n",
       "      <td>height</td>\n",
       "      <td>10.50 centimetre</td>\n",
       "    </tr>\n",
       "    <tr>\n",
       "      <th>6</th>\n",
       "      <td>6</td>\n",
       "      <td>width</td>\n",
       "      <td>10.50 centimetre</td>\n",
       "    </tr>\n",
       "    <tr>\n",
       "      <th>7</th>\n",
       "      <td>7</td>\n",
       "      <td>height</td>\n",
       "      <td>25.0 centimetre</td>\n",
       "    </tr>\n",
       "    <tr>\n",
       "      <th>8</th>\n",
       "      <td>8</td>\n",
       "      <td>width</td>\n",
       "      <td>40 centimetre</td>\n",
       "    </tr>\n",
       "    <tr>\n",
       "      <th>9</th>\n",
       "      <td>9</td>\n",
       "      <td>height</td>\n",
       "      <td>25.0 centimetre</td>\n",
       "    </tr>\n",
       "    <tr>\n",
       "      <th>10</th>\n",
       "      <td>10</td>\n",
       "      <td>item_weight</td>\n",
       "      <td>50.0 gram</td>\n",
       "    </tr>\n",
       "    <tr>\n",
       "      <th>11</th>\n",
       "      <td>11</td>\n",
       "      <td>width</td>\n",
       "      <td>8.0 centimetre</td>\n",
       "    </tr>\n",
       "    <tr>\n",
       "      <th>12</th>\n",
       "      <td>12</td>\n",
       "      <td>depth</td>\n",
       "      <td>10.0 centimetre</td>\n",
       "    </tr>\n",
       "    <tr>\n",
       "      <th>13</th>\n",
       "      <td>13</td>\n",
       "      <td>height</td>\n",
       "      <td>25.0 centimetre</td>\n",
       "    </tr>\n",
       "    <tr>\n",
       "      <th>14</th>\n",
       "      <td>14</td>\n",
       "      <td>width</td>\n",
       "      <td>8.0 centimetre</td>\n",
       "    </tr>\n",
       "    <tr>\n",
       "      <th>15</th>\n",
       "      <td>15</td>\n",
       "      <td>item_weight</td>\n",
       "      <td>50.0 gram</td>\n",
       "    </tr>\n",
       "    <tr>\n",
       "      <th>16</th>\n",
       "      <td>16</td>\n",
       "      <td>maximum_weight_recommendation</td>\n",
       "      <td>50.0 gram</td>\n",
       "    </tr>\n",
       "    <tr>\n",
       "      <th>17</th>\n",
       "      <td>17</td>\n",
       "      <td>item_weight</td>\n",
       "      <td>2 gram</td>\n",
       "    </tr>\n",
       "    <tr>\n",
       "      <th>18</th>\n",
       "      <td>18</td>\n",
       "      <td>wattage</td>\n",
       "      <td>10.0 watt</td>\n",
       "    </tr>\n",
       "    <tr>\n",
       "      <th>19</th>\n",
       "      <td>19</td>\n",
       "      <td>voltage</td>\n",
       "      <td>240 volt</td>\n",
       "    </tr>\n",
       "  </tbody>\n",
       "</table>\n",
       "</div>"
      ],
      "text/plain": [
       "    index                    entity_name        prediction\n",
       "0       0                         height   25.0 centimetre\n",
       "1       1                          width     42 centimetre\n",
       "2       2                         height     42 centimetre\n",
       "3       3                          depth     42 centimetre\n",
       "4       4                          depth  10.50 centimetre\n",
       "5       5                         height  10.50 centimetre\n",
       "6       6                          width  10.50 centimetre\n",
       "7       7                         height   25.0 centimetre\n",
       "8       8                          width     40 centimetre\n",
       "9       9                         height   25.0 centimetre\n",
       "10     10                    item_weight         50.0 gram\n",
       "11     11                          width    8.0 centimetre\n",
       "12     12                          depth   10.0 centimetre\n",
       "13     13                         height   25.0 centimetre\n",
       "14     14                          width    8.0 centimetre\n",
       "15     15                    item_weight         50.0 gram\n",
       "16     16  maximum_weight_recommendation         50.0 gram\n",
       "17     17                    item_weight            2 gram\n",
       "18     18                        wattage         10.0 watt\n",
       "19     19                        voltage          240 volt"
      ]
     },
     "execution_count": 164,
     "metadata": {},
     "output_type": "execute_result"
    }
   ],
   "source": [
    "df.head(20)"
   ]
  },
  {
   "cell_type": "code",
   "execution_count": 165,
   "metadata": {},
   "outputs": [
    {
     "data": {
      "text/html": [
       "<div>\n",
       "<style scoped>\n",
       "    .dataframe tbody tr th:only-of-type {\n",
       "        vertical-align: middle;\n",
       "    }\n",
       "\n",
       "    .dataframe tbody tr th {\n",
       "        vertical-align: top;\n",
       "    }\n",
       "\n",
       "    .dataframe thead th {\n",
       "        text-align: right;\n",
       "    }\n",
       "</style>\n",
       "<table border=\"1\" class=\"dataframe\">\n",
       "  <thead>\n",
       "    <tr style=\"text-align: right;\">\n",
       "      <th></th>\n",
       "      <th>index</th>\n",
       "      <th>prediction</th>\n",
       "    </tr>\n",
       "  </thead>\n",
       "  <tbody>\n",
       "    <tr>\n",
       "      <th>0</th>\n",
       "      <td>0</td>\n",
       "      <td>25.0 centimetre</td>\n",
       "    </tr>\n",
       "    <tr>\n",
       "      <th>1</th>\n",
       "      <td>1</td>\n",
       "      <td>42 centimetre</td>\n",
       "    </tr>\n",
       "    <tr>\n",
       "      <th>2</th>\n",
       "      <td>2</td>\n",
       "      <td>42 centimetre</td>\n",
       "    </tr>\n",
       "    <tr>\n",
       "      <th>3</th>\n",
       "      <td>3</td>\n",
       "      <td>42 centimetre</td>\n",
       "    </tr>\n",
       "    <tr>\n",
       "      <th>4</th>\n",
       "      <td>4</td>\n",
       "      <td>10.50 centimetre</td>\n",
       "    </tr>\n",
       "  </tbody>\n",
       "</table>\n",
       "</div>"
      ],
      "text/plain": [
       "   index        prediction\n",
       "0      0   25.0 centimetre\n",
       "1      1     42 centimetre\n",
       "2      2     42 centimetre\n",
       "3      3     42 centimetre\n",
       "4      4  10.50 centimetre"
      ]
     },
     "execution_count": 165,
     "metadata": {},
     "output_type": "execute_result"
    }
   ],
   "source": [
    "df=df.drop(['entity_name'], axis=1)\n",
    "df.head()"
   ]
  },
  {
   "cell_type": "code",
   "execution_count": 166,
   "metadata": {},
   "outputs": [],
   "source": [
    "df.to_csv('submission1.csv', index=False)"
   ]
  },
  {
   "cell_type": "code",
   "execution_count": 167,
   "metadata": {},
   "outputs": [],
   "source": [
    "# pattern = r'([a-zA-Z]+[\\d\\D]*?[a-zA-Z]+)(?:\\d.*)'\n",
    "\n",
    "# # Function to remove numbers after the last alphabetic character\n",
    "# def remove_numbers_after_string(s):\n",
    "#     match = re.match(pattern, s)\n",
    "#     if match:\n",
    "#         return match.group(1)  # Return everything up to the last alphabetic character\n",
    "#     return s  # If no match, return the original string\n",
    "\n",
    "# # Apply the function to the 'prediction' column\n",
    "# df['cleaned_prediction'] = df['prediction'].apply(remove_numbers_after_string)\n"
   ]
  },
  {
   "cell_type": "code",
   "execution_count": 168,
   "metadata": {},
   "outputs": [],
   "source": [
    "# pattern = r'[a-zA-Z]+\\d'\n",
    "\n",
    "# # Find rows where a string character appears before a number\n",
    "# df_with_string_before_number = df[df['prediction'].str.contains(pattern, regex=True)]\n",
    "\n",
    "# print(df_with_string_before_number)\n"
   ]
  },
  {
   "cell_type": "code",
   "execution_count": 169,
   "metadata": {},
   "outputs": [
    {
     "data": {
      "text/plain": [
       "(131187, 2)"
      ]
     },
     "execution_count": 169,
     "metadata": {},
     "output_type": "execute_result"
    }
   ],
   "source": [
    "df.shape"
   ]
  },
  {
   "cell_type": "code",
   "execution_count": 171,
   "metadata": {},
   "outputs": [],
   "source": [
    "df.to_csv('final.csv', index=False)"
   ]
  },
  {
   "cell_type": "code",
   "execution_count": null,
   "metadata": {},
   "outputs": [],
   "source": []
  },
  {
   "cell_type": "code",
   "execution_count": null,
   "metadata": {},
   "outputs": [],
   "source": [
    "df=pd.read_csv('final.csv')\n",
    "df.head()\n",
    "valid_units = [\n",
    "    'cubic inch', 'volt', 'millivolt', 'kilovolt', 'gallon', 'watt', 'litre',\n",
    "    'centilitre', 'metre', 'millimetre', 'millilitre', 'ton', 'microgram',\n",
    "    'imperial gallon', 'centimetre', 'cubic foot', 'kilowatt', 'fluid ounce',\n",
    "    'quart', 'ounce', 'foot', 'decilitre', 'microlitre', 'milligram',\n",
    "    'cup', 'kilogram', 'inch', 'pint', 'yard', 'pound', 'gram'\n",
    "]\n",
    "\n",
    "def extract_unit(value):\n",
    "    # Split the value into number and unit\n",
    "    parts = value.split()\n",
    "    if len(parts) > 1:\n",
    "        unit = ' '.join(parts[1:]).lower()\n",
    "        return unit\n",
    "    return ''\n",
    "\n",
    "def find_invalid_units(df):\n",
    "    # Apply the unit extraction and check if the unit is valid\n",
    "    df['unit'] = df['prediction'].apply(extract_unit)\n",
    "    df_invalid = df[~df['unit'].isin(valid_units)]\n",
    "    return df_invalid\n",
    "\n",
    "# Find invalid units\n",
    "df_invalid = find_invalid_units(df)\n",
    "\n",
    "print(df_invalid)\n",
    "import re\n",
    "def insert_space(value):\n",
    "    # Regular expression to match the transition from digits to letters\n",
    "    return re.sub(r'(\\d+)([a-zA-Z])', r'\\1 \\2', value)\n",
    "\n",
    "# Apply the function to the 'prediction' column\n",
    "df['prediction'] = df['prediction'].apply(insert_space)\n",
    "\n",
    "df.head(10)\n",
    "df.drop(['unit'], axis=1, inplace=True)\n",
    "df.head()\n",
    "# df.drop(['entity_name'], axis=1, inplace=True)\n",
    "df.to_csv('final.csv')\n",
    "df.head()\n",
    "def insert_space_and_format(value):\n",
    "    # Use regular expression to find the boundary between digits and characters\n",
    "    match = re.match(r'(\\d+)([a-zA-Z])', value)\n",
    "    \n",
    "    if match:\n",
    "        # Extract number and unit\n",
    "        number, unit = match.groups()\n",
    "        # Format number to include decimal point\n",
    "        number = f\"{number}.0\"\n",
    "        return f\"{number} {unit}\"\n",
    "    \n",
    "    # If it doesn't match the pattern, apply space insertion\n",
    "    return re.sub(r'(\\d+\\.?\\d*)([a-zA-Z])', r'\\1 \\2', value)\n",
    "\n",
    "# Apply the function to the 'prediction' column\n",
    "df['prediction'] = df['prediction'].apply(insert_space_and_format)\n",
    "df.head()\n",
    "df.to_csv('final.csv')\n",
    "def insert_space_and_format(value):\n",
    "    # First, add space between number and unit\n",
    "    value = re.sub(r'(\\d+\\.?\\d*)([a-zA-Z])', r'\\1 \\2', value)\n",
    "    \n",
    "    # Now handle cases where the number ends with a period and has no decimal digits\n",
    "    value = re.sub(r'(\\d+)\\. (\\w+)', r'\\1.0 \\2', value)\n",
    "    \n",
    "    return value\n",
    "\n",
    "# Apply the function to the 'prediction' column\n",
    "df['prediction'] = df['prediction'].apply(insert_space_and_format)\n",
    "\n",
    "print(df)\n",
    "df.to_csv('final.csv')\n",
    "df.shape\n"
   ]
  },
  {
   "cell_type": "code",
   "execution_count": null,
   "metadata": {},
   "outputs": [],
   "source": []
  }
 ],
 "metadata": {
  "kernelspec": {
   "display_name": "Python 3",
   "language": "python",
   "name": "python3"
  },
  "language_info": {
   "codemirror_mode": {
    "name": "ipython",
    "version": 3
   },
   "file_extension": ".py",
   "mimetype": "text/x-python",
   "name": "python",
   "nbconvert_exporter": "python",
   "pygments_lexer": "ipython3",
   "version": "3.10.5"
  }
 },
 "nbformat": 4,
 "nbformat_minor": 2
}
